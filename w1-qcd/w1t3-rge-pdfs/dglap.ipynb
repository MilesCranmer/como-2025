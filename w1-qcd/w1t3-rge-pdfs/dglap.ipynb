{
 "cells": [
  {
   "cell_type": "code",
   "execution_count": 1,
   "id": "3e2d5be0-ec4c-4f55-9529-6f674bdfccf4",
   "metadata": {},
   "outputs": [],
   "source": [
    "import numpy as np\n",
    "import eko"
   ]
  },
  {
   "cell_type": "markdown",
   "id": "e8f129eb-b4ad-4027-a9e2-2636275277a7",
   "metadata": {},
   "source": [
    "# The renormalization group equation of PDFs: the DGLAP equation"
   ]
  },
  {
   "attachments": {},
   "cell_type": "markdown",
   "id": "b01c5ee6-2afa-49a5-9fb4-3812db491b1a",
   "metadata": {},
   "source": [
    "Similar to the case of the strong coupling also the PDF obey an renormalization group equation: the DGLAP equation.\n",
    "They can be obtained imposing that physical cross section does not depend on the (unphysical) factorization scale $\\mu_F$. \n",
    "We can write them in their canonical form\n",
    "\n",
    "$$\n",
    "    \\mu_F^2\\frac{d}{d\\mu_F^2} \\mathbf{f}(x,\\mu_F^2) = \\left(\\mathbf P(a_s(\\mu_F^2)) \\otimes \\mathbf{f}(\\mu_F^2)\\right)(x) = \n",
    "        \\int\\limits_x^1\\!\\frac{dy}{y}\\, \\mathbf{P}(x/y,a_s(\\mu_F^2)) \\cdot \\mathbf{f}(y,\\mu_F^2)\n",
    "$$\n",
    "\n",
    "where the vector $\\mathbf{f}$ is the PDF for all participating partons and $\\mathbf P$ are the Altarelli-Parisi splitting functions.\n",
    "\n",
    "Let's have a closer look to these equations (plural!):\n",
    "- in the way we wrote it above they are [integro-differential equations](https://en.wikipedia.org/wiki/Integro-differential_equation), i.e. they contain both differentials (lhs) and integrals (rhs)\n",
    "- they are coupled equations: $\\mathbf f$ is a vector and $\\mathbf P$ is matrix - in the following, we assume that they span a 14-dimensional space\n",
    "\n",
    "Either of these two points is an essential problem in solving the DGLAP equations and we will have to tackle them in a moment."
   ]
  },
  {
   "cell_type": "markdown",
   "id": "766dbbec-fb09-4e60-aba4-8b1bc7b2c051",
   "metadata": {},
   "source": [
    "## DGLAP in diagrams"
   ]
  },
  {
   "cell_type": "markdown",
   "id": "76446003-ead7-4b41-84e8-ffa18bd57879",
   "metadata": {},
   "source": [
    "Before diving into the complicated discussion, let's show some illustrative diagrams on DGLAP evolution first.\n",
    "PDFs are connected to the collinear behaviour of the partons inside the proton and the DGLAP equations ensure that all partons are generated according to the\n",
    "Altarelli-Parisi splitting functions, which can be derived from pQCD. Let's take an example from yesterday:\n",
    "\n",
    "| NLO gluon diagram | quark-from-gluon splitting function | LO quark diagram |\n",
    "| :-: | :-: | :-: |\n",
    "| <img src=\"figures/cg.png\" width=260 height=260 /> | <img src=\"figures/pqg.png\" width=260 height=260 /> | <img src=\"figures/lo-light.png\" width=260 height=260 /> |\n",
    "| $ c_g^{(1)}(z) = 2 T_R n_f \\left((2-4z(1-z)\\ln((1-z)/z)) -2 +16z(1-z)\\right) $ | $P_{q\\leftarrow g}(z) = 2 T_R n_f \\left(2-4z(1-z)\\right)$ | $c_q^{(0)} = \\delta(1-z)$ |\n",
    "\n",
    "Yesterday, in our DIS calculation we saw the NLO gluon channel (the diagram on the left) and we had the NLO gluon coefficient function $c_g^{(1)}(z)$ which\n",
    "describes the propability of the process to happen, whatever the configuration of the outgoing particles. While computing the coefficient functions we encountered the propagator in the middle of the diagram, which has a problem: it is\n",
    "propotional to the inverse of $(k_1-p_2)^2$ and choosing a suitable reference frame we can write\n",
    "$$t = (k_1-p_2)^2 \\sim (1-\\cos\\theta)$$\n",
    "where $\\theta$ is the angle between $\\vec p_2$ and $\\vec k_1$. This propagator becomes singular if $t$ vanishes, which is the case for $\\theta\\to 0$, i.e. if $p_2$ and $k_1$ are collinear!\n",
    "\n",
    "Now the statement is: in this limit, the collinear limit, we can predict exactly how that singularity arises (and, thus, we can subtract it).\n",
    "The actual expression is\n",
    "$$ \\mathrm{Collinear\\,limit\\,of\\,NLO} = (\\mathrm{splitting\\,functions}) \\otimes \\mathrm{LO} $$\n",
    "\n",
    "The central argument is that splitting functions are **universal** and they can be computed perturbatively\n",
    "$$ \\mathbf{P}(z,a_s(\\mu^2)) = \\sum\\limits_{j=0} a_s^{j+1}(\\mu^2) \\mathbf{P}^{(j)}(z) $$\n",
    "e.g. from the diagram given above. The NNLO expression are given [here](https://inspirehep.net/literature/646539) and [here](https://inspirehep.net/literature/648209)."
   ]
  },
  {
   "cell_type": "markdown",
   "id": "8199dfff-1c63-4fc8-857b-404628c1b070",
   "metadata": {},
   "source": [
    "## Choosing a good representation 1: Mellin space"
   ]
  },
  {
   "cell_type": "markdown",
   "id": "74734fd8-e535-49bd-bfb2-d5a8025bf98a",
   "metadata": {},
   "source": [
    "First, let's tackle the problem of the integral appearing on the rhs.\n",
    "\n",
    "Remember the quantum mechanics lecture where it was convenient to choose the Fourier transform for solving the harmonic oscilator.\n",
    "Here, we can do a similar trick: we can apply an integral transformation to simplify the equations - the Mellin transformation. It is defined by:\n",
    "$$\n",
    "    \\tilde g(N) = \\mathcal{M}[g(x)](N) = \\int\\limits_{0}^{1} x^{N-1} g(x)\\,dx\n",
    "$$\n",
    "where now $N$ is a complex variable. We denote objects in Mellin-space with an additional tilde. As usual, we also need the inverse transformation and here, the inverse Mellin transformation requires an integration on the full complex plane and is given by:\n",
    "$$\n",
    "    g(x) = \\mathcal{M}^{-1}[\\tilde g(N)](x) = \\frac{1}{2\\pi i} \\int\\limits_{\\mathcal{P}} x^{-N} \\tilde g(N)\\,dN\n",
    "$$\n",
    "for a suitable path $\\mathcal{P}(t)$ which runs to the right to the right-most\n",
    "pole of $\\tilde g(N)$. \n",
    "\n",
    "In Mellin space the convolution becomes a simple product, thus, the DGLAP equation simplifies to:\n",
    "$$ \\mu_F^2\\frac{d}{d\\mu_F^2} \\tilde{\\mathbf{f}}(N,\\mu_F^2) = -\\gamma(N,a_s(\\mu_F^2)) \\cdot \\tilde{\\mathbf{f}}(N,\\mu_F^2) $$\n",
    "where we defined the so-called anomalous dimensions $\\gamma(N) = -\\mathcal{M}[\\mathbf P](N)$ (so they are the Mellin transforms of the splitting functions)."
   ]
  },
  {
   "cell_type": "markdown",
   "id": "203adb74-8f6e-4691-b8e0-8937ec9e2b09",
   "metadata": {},
   "source": [
    "**Excercise**: check that in Mellin space convolutions become ordinary products, i.e.\n",
    "$$ \\mathcal M[(f\\otimes g)(x)](N) = \\mathcal M[f(x)](N) \\cdot \\mathcal M[g(x)](N) $$"
   ]
  },
  {
   "cell_type": "markdown",
   "id": "4c053038-7570-4df4-a25e-ea6951121792",
   "metadata": {},
   "source": [
    "Both, the splitting functions $\\mathbf P$ and the anomalous dimension $\\gamma$ can contain specific physics features which exhibit clear signatures:\n",
    "| | regular behaviour | soft radiation | high energy radiation |\n",
    "| --: | :-: | :-: | :-: |\n",
    "| example | <img src=\"figures/pqg.png\" width=260 height=260 /> | <img src=\"figures/pqq.png\" width=260 height=260 /> | <img src=\"figures/pgg.png\" width=260 height=260 /> |\n",
    "| $\\mathbf P(z)$ | polynomial in $z$ | simple plus distribution $1/(1-z)_+$ | proportional $\\ln^k(z)/z$ |\n",
    "| $\\gamma(N)$ | simple poles on the negative real axis | diverges logarithmically for large $N$ | a simple or higher poles at $N=1$ |"
   ]
  },
  {
   "cell_type": "code",
   "execution_count": 2,
   "id": "58743f33-a5d2-4eba-9c9f-7b38a68ea4a6",
   "metadata": {},
   "outputs": [],
   "source": [
    "# let's show an example of a splitting function / anomalous dimension: P_qg vs γ_qg\n",
    "from ekore.anomalous_dimensions.unpolarized.space_like.as1 import gamma_qg\n",
    "from eko.constants import TR\n",
    "from scipy.integrate import quad\n",
    "\n",
    "NF = 3  # let's fix the number of flavors\n",
    "\n",
    "\n",
    "def pqg(z: float, nf: int = NF) -> float:\n",
    "    \"\"\"Quark-from-gluon splitting function.\"\"\"\n",
    "    return 2.0 * TR * nf * (2.0 - 4.0 * z * (1.0 - z))\n",
    "\n",
    "\n",
    "def mellin_qg(n: complex, nf: int = NF) -> complex:\n",
    "    \"\"\"Mellin transform of quark-from-gluon splitting function.\"\"\"\n",
    "    return quad(lambda z: z ** (n - 1.0) * pqg(z, nf), 0, 1)[0]\n",
    "\n",
    "\n",
    "# check that in eko we're indeed using the Mellin transform\n",
    "# remember the minus in the gamma definition\n",
    "for n in [1.0, 2.0, 3.0]:\n",
    "    np.testing.assert_allclose(-mellin_qg(n), gamma_qg(n, NF))"
   ]
  },
  {
   "cell_type": "code",
   "execution_count": 3,
   "id": "69c98577-67ac-4745-a87c-b9b85f5144ac",
   "metadata": {},
   "outputs": [
    {
     "data": {
      "image/png": "[encoded data removed]",
      "text/plain": [
       "<Figure size 1500x500 with 2 Axes>"
      ]
     },
     "metadata": {},
     "output_type": "display_data"
    }
   ],
   "source": [
    "import matplotlib.pyplot as plt\n",
    "\n",
    "# let's plot them in their respective space\n",
    "plt.close()\n",
    "fig, (ax0, ax1) = plt.subplots(\n",
    "    1,\n",
    "    2,\n",
    "    figsize=(15, 5),\n",
    "    clear=True,\n",
    "    layout=\"tight\",\n",
    ")\n",
    "# x-space\n",
    "zs = np.linspace(0, 1, 100)\n",
    "ax0.plot(zs, pqg(zs))\n",
    "ax0.set_xlabel(\"z\")\n",
    "ax0.set_title(r\"$P_{qg}(z)$\")\n",
    "# N-space\n",
    "ns = np.linspace(-3.1, 3.1, 100)\n",
    "ax1.plot(ns, [gamma_qg(n, NF) for n in ns])\n",
    "ax1.set_xlabel(\"N\")\n",
    "ax1.set_title(r\"$\\gamma_{qg}(N)$\")\n",
    "ax1.set_ylim(-50, 50)\n",
    "fig;"
   ]
  },
  {
   "cell_type": "markdown",
   "id": "aafb6814-7bf1-401c-a2a5-213bdc42862e",
   "metadata": {},
   "source": [
    "## Choosing a good representation 2: flavor space"
   ]
  },
  {
   "cell_type": "markdown",
   "id": "a7063515-fe47-47ba-9346-0b5f04c34c88",
   "metadata": {},
   "source": [
    "Next, we need to tackle the fact that the simple equations we wrote in a naive way are actually part of a system of fully coupled equation.\n",
    "\n",
    "To illustrate this, let's consider a simplified setup first: let's assume there was only the gluon and one quark species, e.g. the down quark.\n",
    "Then, the splitting kernel would look like:\n",
    "\n",
    "| | $d$ | $g$ | $\\bar d$ |\n",
    "| --: | :-: | :-: | :-: |\n",
    "| $d$ | <img src=\"figures/pqq.png\" width=260 height=260 /> | <img src=\"figures/pqg.png\" width=260 height=260 /> | $O(g_s^2)$ |\n",
    "| $g$ | <img src=\"figures/pgq.png\" width=260 height=260 /> | <img src=\"figures/pgg.png\" width=260 height=260 /> | <img src=\"figures/pgqbar.png\" width=260 height=260 /> |\n",
    "| $\\bar d$ | $O(g_s^2)$ | <img src=\"figures/pqbarg.png\" width=260 height=260 /> | <img src=\"figures/pqbarqbar.png\" width=260 height=260 /> |\n",
    "\n",
    "Now, after taking the modulus square, the direction of the fermion flow does not matter any longer and we get:\n",
    "$$ \\mathbf f_{fl} = \\begin{pmatrix} d \\\\ g \\\\ \\bar d \\end{pmatrix}\n",
    "\\quad\n",
    "\\gamma_{fl} = \\begin{pmatrix}\n",
    "    \\gamma_{dd}^{(0)} & \\gamma_{dg}^{(0)} & 0\\\\\n",
    "    \\gamma_{gd}^{(0)} & \\gamma_{gg}^{(0)} &  \\gamma_{gd}^{(0)} \\\\\n",
    "    0 &\\gamma_{dg}^{(0)} & \\gamma_{dd}^{(0)} \\\\\n",
    "\\end{pmatrix} $$\n",
    "But now we can find easily a new basis in which we can at least decouple something, by rotating our old basis:\n",
    "$$ \\mathbf f_{ev} = \\begin{pmatrix} d + \\bar d \\\\ g \\\\ d -\\bar d \\end{pmatrix}\n",
    "\\quad\n",
    "\\gamma_{ev} = \\begin{pmatrix}\n",
    "    \\gamma_{dd}^{(0)} & 2\\gamma_{dg}^{(0)} & 0\\\\\n",
    "    \\gamma_{gd}^{(0)} & \\gamma_{gg}^{(0)} & 0 \\\\\n",
    "    0 & 0 & \\gamma_{dd}^{(0)} \\\\\n",
    "\\end{pmatrix} $$\n",
    "Of course the gluon couples just the same to a particle as to an anti-particle and so it does not couple at all to $d_v = d-\\bar d$, which decouples this quantity.\n",
    "We still have a coupled $2\\times 2$ sector and that will remain - but no more than that.\n",
    "\n",
    "We can repeat the same strategy for an arbitrary number of flavors (so not only one) and this yields the so called \"evolution basis\" (for more information see [here](https://eko.readthedocs.io/en/latest/theory/FlavorSpace.html)):\n",
    "$$\n",
    "\\begin{aligned}\n",
    "    \\Sigma &= \\sum\\limits_{j}^6 q_j^+\\\\\n",
    "    V &= \\sum\\limits_{j}^6 q_j^-\\\\\n",
    "    V_3 &= u^- - d^-\\\\\n",
    "    V_8 &= u^- + d^- - 2 s^-\\\\\n",
    "    V_{15} &= u^- + d^- + s^- - 3 c^-\\\\\n",
    "    V_{24} &= u^- + d^- + s^- + c^- - 4 b^-\\\\\n",
    "    V_{35} &= u^- + d^- + s^- + c^- + b^- - 5 t^-\\\\\n",
    "    T_3 &= u^+ - d^+\\\\\n",
    "    T_8 &= u^+ + d^+ - 2 s^+\\\\\n",
    "    T_{15} &= u^+ + d^+ + s^+ - 3 c^+\\\\\n",
    "    T_{24} &= u^+ + d^+ + s^+ + c^+ - 4 b^+\\\\\n",
    "    T_{35} &= u^+ + d^+ + s^+ + c^+ + b^+ - 5 t^+\n",
    "\\end{aligned}\n",
    "$$\n",
    "where we used the common abbreviations $q^\\pm = q \\pm \\bar q$ and the fact that the gluon is flavor-blind.\n",
    "\n",
    "In the end we can distinguish two sectors: the non-singlet sector, where equations completely decouple and we do not need to worry about matrices,\n",
    "and the singlet sector, which couples the singlet $\\Sigma$ and the gluon $g$ together.\n",
    "\n",
    "The valence quarks $u_v = u^-$ and $d_v = d^-$ are of course the main building blocks of a proton: it has 2 up valence quarks and 1 down valence quark, or written in terms of equations:\n",
    "$$ \\int\\limits_0^1 u_v(x,\\mu_F^2) dx = 2 \\quad \\int\\limits_0^1 d_v(x,\\mu_F^2) dx = 1 $$"
   ]
  },
  {
   "cell_type": "markdown",
   "id": "fdc4e20b-e7a1-4184-9af5-38c2cdf39ee7",
   "metadata": {},
   "source": [
    "## Solving DLGAP in terms of evolution kernel operators"
   ]
  },
  {
   "cell_type": "markdown",
   "id": "edc67189-eb8a-4f47-baeb-213a1070545d",
   "metadata": {},
   "source": [
    "We arrived at\n",
    "$$ \\mu_F^2\\frac{d}{d\\mu_F^2} \\tilde{\\mathbf{f}}(N,\\mu_F^2) = -\\gamma(N,a_s(\\mu_F^2)) \\cdot \\tilde{\\mathbf{f}}(N,\\mu_F^2)\\quad, $$\n",
    "but there is yet one more problem to solve: the scale dependence of the rhs is quite involved (and beyond LO not even analytically given).\n",
    "To bypass this problem, we can do a change of variable using the (monotonic) strong coupling $a_s(\\mu_F^2)$ and write:\n",
    "$$\n",
    "    \\frac{d}{da_s} \\tilde{\\mathbf{f}}(a_s)\n",
    "        = \\frac{d\\mu_F^2}{da_s} \\cdot \\frac{d \\tilde{\\mathbf{f}}(\\mu_F^2)}{d\\mu_F^2}\n",
    "        = -\\frac{\\gamma(a_s)}{\\beta(a_s)} \\cdot \\tilde{\\mathbf{f}}(a_s)\n",
    "$$\n",
    "\n",
    "Finally, we can give a (formal) solution in terms of an Evolution Kernel Operator (EKO) $\\mathbf E$:\n",
    "$$\n",
    "\\begin{aligned}\n",
    "    \\tilde{\\mathbf{f}}(a_s) &= \\tilde{\\mathbf{E}}(a_s \\leftarrow a_s^0) \\cdot \\tilde{\\mathbf{f}}(a_s^0) \\\\\n",
    "    \\tilde{\\mathbf{E}}(a_s \\leftarrow a_s^0) &= \\mathcal P \\exp\\left[-\\int\\limits_{a_s^0}^{a_s} \\frac{\\gamma(a_s')}{\\beta(a_s')} da_s' \\right]\n",
    "\\end{aligned}\n",
    "$$\n",
    "with $\\mathcal P$ the path-ordering operator as $\\gamma$ may still be a matrix. Computing EKOs which is independent from the boundary condition is a good idea for PDF fitting, since we need to evolve the candidate PDFs many times.\n",
    "\n",
    "In Mellin space the EKO is already fully independent from the boundary condition $\\tilde{\\mathbf{f}}(\\mu_0^2)$, however in practice Mellin space\n",
    "is not really usefull since you need to know the function over the full x domain. And moreover, usually PDFs are obtained and fitted in x space, so we should better do something.\n",
    "Thus, the final step is to apply interpolation on both the initial and final PDF to obtain an EKO which is independent of the boundary condition also in x space.\n",
    "In effect this means that we need the input at a given set of points and produce the output at a given set of points.\n",
    "\n",
    "Now, we can write the solution to DGLAP as a true matrix operator and find:\n",
    "$$ f_a^p(x_k,\\mu^2) = E_{k,j}^{a,b}\\left(a_s(\\mu^2) \\leftarrow a_s(\\mu_0^2)\\right) f_b^p(x_j,\\mu_0^2) $$\n",
    "so the EKO is a rank-4 tensor acting both in flavor and momentum fraction space."
   ]
  },
  {
   "attachments": {},
   "cell_type": "markdown",
   "id": "f867cfdd",
   "metadata": {},
   "source": [
    "## LO solution\n",
    "\n",
    "At LO we have $\\beta(a_s) = -\\beta_0 a_s^2$ and $\\gamma(a_s) = a_s \\gamma^{(0)}$ and we can solve the integral inside the exponential in our master formula straight forward:\n",
    "$$\n",
    "    \\ln \\tilde {\\mathbf E}^{(0)}(a_s \\leftarrow a_s^0) = -\\int\\limits_{a_s^0}^{a_s} \\frac{\\gamma(a_s')}{\\beta(a_s')} da_s' = \\gamma^{(0)}\\int\\limits_{a_s^0}^{a_s} \\frac{da_s'}{\\beta_0 a_s'} = \\gamma^{(0)} \\cdot \\frac{\\ln(a_s/a_s^0)}{\\beta_0}\n",
    "$$\n",
    "and we don't need to worry about the path-ordering, since there is at most 1 matrix involved, which always commutes with itself.\n",
    "\n",
    "\n",
    "### Non-singlet sector\n",
    "\n",
    "In the non-singlet sector all equations decouple and we do not need to worry about matrices. For our master formula we find:\n",
    "$$ \\frac{d}{da_s} \\tilde f_{ns}^{(0)}(a_s) = \\frac{\\gamma_{ns}^{(0)}}{\\beta_0 a_s}  \\cdot \\tilde f_{ns}^{(0)}(a_s) $$\n",
    "and, thus, the EKO is then given by a simple exponential:\n",
    "$$ \\tilde E^{(0)}_{ns}(a_s \\leftarrow a_s^0) = \\exp\\left[\\gamma_{ns}^{(0)} \\ln(a_s/a_s^0)/\\beta_0 \\right] = \\left(\\frac{a_s}{a_s^0}\\right)^{\\gamma_{ns}/\\beta_0} $$\n",
    "where now the name \"anomalous dimensions\" becomes obvious.\n",
    "\n",
    "All in all, a non-singlet PDF at an arbitrary scale $\\mu^2$ is computed from the boundary condition at $\\mu_0^2$ by\n",
    "$$ f_{ns}(x,\\mu^2) = \\mathcal M^{-1}\\left[\\exp\\left(\\gamma_{ns}^{(0)}(N) \\ln(a_s(\\mu^2)/a_s(\\mu_0^2))/\\beta_0  \\right) \\mathcal M\\left[f_{ns}(y,\\mu_0^2)\\right](N) \\right](x) $$\n",
    "\n",
    "### Singlet sector\n",
    "\n",
    "In the singlet sector we have the singlet $\\Sigma$ and gluon $g$ PDFs and we need to solve a coupled system of equations:\n",
    "\n",
    "$$\n",
    "    \\frac{d}{da_s} \\begin{pmatrix}\\tilde \\Sigma\\\\\\tilde g \\end{pmatrix} =  \\frac{\\gamma_S^{(0)}}{\\beta_0 a_s} \\begin{pmatrix} \\tilde \\Sigma\\\\ \\tilde g \\end{pmatrix}\n",
    "       = \\frac{1}{\\beta_0 a_s} \\begin{pmatrix}\n",
    "                                \\gamma_{qq}^{(0)} & \\gamma_{qg}^{(0)}\\\\\n",
    "                                \\gamma_{gq}^{(0)} & \\gamma_{gg}^{(0)}\n",
    "                            \\end{pmatrix} \\begin{pmatrix} \\tilde \\Sigma\\\\ \\tilde g \\end{pmatrix}\n",
    "$$\n",
    "\n",
    "In order to exponentiate the EKO, we need to diagonalize the anomalous dimension $\\gamma_S^{(0)}$ and only then the exponentiation becomes easier again."
   ]
  },
  {
   "cell_type": "markdown",
   "id": "3693894a-f1b4-483d-86e0-518548932aaf",
   "metadata": {},
   "source": [
    "## All the other complications"
   ]
  },
  {
   "cell_type": "markdown",
   "id": "4bd938e2-4599-4730-9d8e-ecff18c9d021",
   "metadata": {},
   "source": [
    "The additional complications we discussed for the strong coupling are also present for DGLAP:\n",
    "- DGLAP also defines a resummation: we have to sum all terms $\\left(a_s(\\mu_0^2) \\log(\\mu^2/\\mu_0^2)\\right)^k$ for a true solution\n",
    "- the DGLAP equations hold for a fixed flavor scheme with a fixed number of quarks active. In case of a variable flavor scheme we may need to apply matching conditions when crossing a heavy flavor thresholds.\n",
    "- at higher orders the analytical solutions become more complicated and as before many solution strategies become available. You can have a look [here](https://eko.readthedocs.io/en/latest/theory/DGLAP.html) for the full documentation up to N3LO"
   ]
  },
  {
   "attachments": {},
   "cell_type": "markdown",
   "id": "600aca0b",
   "metadata": {},
   "source": [
    "# Computing an EKO"
   ]
  },
  {
   "attachments": {},
   "cell_type": "markdown",
   "id": "0282e916-4eae-4d96-8897-358023f18ee4",
   "metadata": {},
   "source": [
    "We develop the [eko](https://github.com/NNPDF/eko) library to solve DGLAP - let's use it!\n",
    "\n",
    "By design, `eko` follows a \"no default\" approach, so the user has to spell out all the relevant options in order to start a calculation, and no sensible defaults are applied by the program itself.\n",
    "This is done in order to reduce the amount of unexpected behavior, that can result in unpredictable behaviour and is difficult to debug differences for the end user.\n",
    "\n",
    "In order to avoid surprises, please take care to review your choices, and their meaning.\n",
    "\n",
    "In this example, we are going to use some runcards internally used for debugging. The options in there are in no way better than any other.\n",
    "For the calculation you are going to run, you are expected to know which are the appropriate values. In case of doubts, read the [docs](https://eko.readthedocs.io/)"
   ]
  },
  {
   "cell_type": "code",
   "execution_count": 4,
   "id": "2cdb5e10-4c68-4cf6-b15d-f464cafae04f",
   "metadata": {},
   "outputs": [
    {
     "data": {
      "image/png": "[encoded data removed]",
      "text/plain": [
       "<Figure size 1500x500 with 2 Axes>"
      ]
     },
     "metadata": {},
     "output_type": "display_data"
    }
   ],
   "source": [
    "from ekobox.cards import example\n",
    "from eko.interpolation import lambertgrid\n",
    "\n",
    "th_card = example.theory()\n",
    "op_card = example.operator()\n",
    "# eko is applying an interpolation and so we need to choose an interpolation grid!\n",
    "# The size and distributions will largely determine how accurate the result is.\n",
    "# Here, we choose a small one, to speed up the example\n",
    "op_card.xgrid = lambertgrid(10)\n",
    "# lambertgrid provides a suitable distribution of points\n",
    "# we want something that is logarithmic at small x and linear at large x\n",
    "plt.close()\n",
    "fig, (ax0, ax1) = plt.subplots(1, 2, figsize=(15, 5))\n",
    "ax0.plot(op_card.xgrid, \"o\")\n",
    "ax0.set_yscale(\"log\")\n",
    "ax1.plot(op_card.xgrid, \"o\")\n",
    "fig;"
   ]
  },
  {
   "cell_type": "markdown",
   "id": "ccb4a599-41bb-4f1c-8d0f-ca7148c54f04",
   "metadata": {},
   "source": [
    "Before starting, let's have a look to these cards."
   ]
  },
  {
   "cell_type": "code",
   "execution_count": 5,
   "id": "d39dcb7b-7891-4f56-812d-1c343d7f434e",
   "metadata": {},
   "outputs": [
    {
     "data": {
      "text/plain": [
       "{'order': [1, 0],\n",
       " 'couplings': {'alphas': 0.118,\n",
       "  'alphaem': 0.007496252,\n",
       "  'scale': 91.2,\n",
       "  'max_num_flavs': 6,\n",
       "  'num_flavs_ref': 5,\n",
       "  'em_running': False},\n",
       " 'heavy': {'num_flavs_init': 4,\n",
       "  'num_flavs_max_pdf': 6,\n",
       "  'intrinsic_flavors': [4],\n",
       "  'masses': [[2.0, nan], [4.5, nan], [173.07, nan]],\n",
       "  'masses_scheme': 'pole',\n",
       "  'matching_ratios': [1.0, 1.0, 1.0]},\n",
       " 'xif': 1.0,\n",
       " 'n3lo_ad_variation': [0, 0, 0, 0, 0, 0, 0],\n",
       " 'use_fhmruvv': False,\n",
       " 'matching_order': [0, 0]}"
      ]
     },
     "execution_count": 5,
     "metadata": {},
     "output_type": "execute_result"
    }
   ],
   "source": [
    "th_card.raw"
   ]
  },
  {
   "cell_type": "code",
   "execution_count": 6,
   "id": "ee14671f-16c3-47c6-b765-09702a28923a",
   "metadata": {},
   "outputs": [
    {
     "data": {
      "text/plain": [
       "{'mu0': 1.65,\n",
       " 'mugrid': [[100.0, 5]],\n",
       " 'xgrid': [9.999999999999984e-08,\n",
       "  1.0448415003131721e-06,\n",
       "  1.0916450353829785e-05,\n",
       "  0.00011400136824643283,\n",
       "  0.0011847790480690361,\n",
       "  0.011742588430938065,\n",
       "  0.08504408706248985,\n",
       "  0.30132870600293005,\n",
       "  0.624780102179027,\n",
       "  1.0],\n",
       " 'configs': {'evolution_method': 'iterate-exact',\n",
       "  'ev_op_max_order': [10, 0],\n",
       "  'ev_op_iterations': 10,\n",
       "  'scvar_method': None,\n",
       "  'inversion_method': None,\n",
       "  'interpolation_polynomial_degree': 4,\n",
       "  'interpolation_is_log': True,\n",
       "  'polarized': False,\n",
       "  'time_like': False,\n",
       "  'n_integration_cores': 0},\n",
       " 'debug': {'skip_singlet': False, 'skip_non_singlet': False},\n",
       " 'eko_version': '0.14.6'}"
      ]
     },
     "execution_count": 6,
     "metadata": {},
     "output_type": "execute_result"
    }
   ],
   "source": [
    "op_card.raw"
   ]
  },
  {
   "cell_type": "markdown",
   "id": "f7fabbbd-5595-4f15-858f-de6b1b75680e",
   "metadata": {},
   "source": [
    "And now, let's run our first `eko` calculation:"
   ]
  },
  {
   "cell_type": "code",
   "execution_count": 7,
   "id": "8b908bb3-cbcc-4d7f-b631-27f1f37464f8",
   "metadata": {},
   "outputs": [],
   "source": [
    "import pathlib\n",
    "\n",
    "# We need a place where to store the eko (note that in practice in can become (very) large)\n",
    "path = pathlib.Path(\"./myeko.tar\")\n",
    "path.unlink(missing_ok=True)\n",
    "# do it!\n",
    "eko.solve(th_card, op_card, path)"
   ]
  },
  {
   "attachments": {},
   "cell_type": "markdown",
   "id": "880aadcf-8f87-4918-a0bc-09581d0d3579",
   "metadata": {},
   "source": [
    "You have just run your first DGLAP calculation!"
   ]
  },
  {
   "attachments": {},
   "cell_type": "markdown",
   "id": "64633ff3",
   "metadata": {},
   "source": [
    "### Exploring the output"
   ]
  },
  {
   "attachments": {},
   "cell_type": "markdown",
   "id": "ad77fe28",
   "metadata": {},
   "source": [
    "Now, let's inspect the content of the operator: e.g. you can extract the theory and operator card"
   ]
  },
  {
   "cell_type": "code",
   "execution_count": 8,
   "id": "6abbf92b",
   "metadata": {},
   "outputs": [
    {
     "name": "stdout",
     "output_type": "stream",
     "text": [
      "TheoryCard(order=(1, 0), couplings=CouplingsInfo(alphas=0.118, alphaem=0.007496252, scale=91.2, max_num_flavs=6, num_flavs_ref=5, em_running=False), heavy=HeavyInfo(num_flavs_init=4, num_flavs_max_pdf=6, intrinsic_flavors=[4, 5, 6], masses=[[2.0, nan], [4.5, nan], [173.07, nan]], masses_scheme=<QuarkMassScheme.POLE: 'pole'>, matching_ratios=[1.0, 1.0, 1.0]), xif=1.0, n3lo_ad_variation=(0, 0, 0, 0, 0, 0, 0), use_fhmruvv=False, matching_order=(0, 0))\n",
      "OperatorCard(mu0=1.65, mugrid=[(100.0, 5)], xgrid=<eko.interpolation.XGrid object at 0x15e7db5d0>, configs=Configs(evolution_method=<EvolutionMethod.ITERATE_EXACT: 'iterate-exact'>, ev_op_max_order=(10, 0), ev_op_iterations=10, scvar_method=None, inversion_method=None, interpolation_polynomial_degree=4, interpolation_is_log=True, polarized=False, time_like=False, n_integration_cores=0), debug=Debug(skip_singlet=False, skip_non_singlet=False), eko_version='0.14.6')\n"
     ]
    }
   ],
   "source": [
    "# open the file with a context manager ...\n",
    "with eko.EKO.read(path) as evolution_operators:\n",
    "    # obtain theory card\n",
    "    print(evolution_operators.theory_card)\n",
    "    # or operator card\n",
    "    print(evolution_operators.operator_card)"
   ]
  },
  {
   "attachments": {},
   "cell_type": "markdown",
   "id": "446eff29",
   "metadata": {},
   "source": [
    "Let's first find out again which final scales we have computed:"
   ]
  },
  {
   "cell_type": "code",
   "execution_count": 9,
   "id": "8259079a",
   "metadata": {},
   "outputs": [
    {
     "name": "stdout",
     "output_type": "stream",
     "text": [
      "[(10000.0, 5)]\n"
     ]
    }
   ],
   "source": [
    "with eko.EKO.read(path) as evolution_operators:\n",
    "    print(evolution_operators.evolgrid)"
   ]
  },
  {
   "attachments": {},
   "cell_type": "markdown",
   "id": "b21ac739",
   "metadata": {},
   "source": [
    "Remember that the unique starting scale is $Q_0^2$. In the present case there is a unique final scale, but in the general one there might be many.\n",
    "Now, let's use this operator! The recommended way to load an operator is by using again a context manager:"
   ]
  },
  {
   "cell_type": "code",
   "execution_count": 10,
   "id": "f96d485d",
   "metadata": {},
   "outputs": [
    {
     "name": "stdout",
     "output_type": "stream",
     "text": [
      "operator shape: (14, 10, 14, 10)\n",
      "flavors are given by pids and momentum fraction by xgrid:\n",
      "pids: [22 -6 -5 -4 -3 -2 -1 21  1  2  3  4  5  6]\n",
      "xgrid: [1.00000000e-07 1.04484150e-06 1.09164504e-05 1.14001368e-04\n",
      " 1.18477905e-03 1.17425884e-02 8.50440871e-02 3.01328706e-01\n",
      " 6.24780102e-01 1.00000000e+00]\n"
     ]
    }
   ],
   "source": [
    "with eko.EKO.read(path) as evolution_operators:\n",
    "    # load an operator\n",
    "    with evolution_operators.operator((10000.0, 5)) as op:\n",
    "        # as the thing is big, let's only print the shape\n",
    "        print(f\"operator shape: {op.operator.shape}\")\n",
    "    # print the respective indices\n",
    "    print(\"flavors are given by pids and momentum fraction by xgrid:\")\n",
    "    print(f\"pids: {evolution_operators.bases.pids}\")\n",
    "    print(f\"xgrid: {evolution_operators.bases.xgrid.raw}\")"
   ]
  },
  {
   "attachments": {},
   "cell_type": "markdown",
   "id": "f8ebdaae",
   "metadata": {},
   "source": [
    "This is the final product we expected from the beginning: the evolution operator, delivered as a rank 4 numerical array.\n",
    "The  dimensions are `(flavor_out, x_out, flavor_in, x_in)` as required from our formula:\n",
    "$$ f_a^p(x_k,\\mu^2) = E_{k,j}^{a,b}(a_s(\\mu^2) \\leftarrow a_s(\\mu_0^2)) f_b^p(x_j,\\mu_0^2) $$"
   ]
  },
  {
   "cell_type": "code",
   "execution_count": 11,
   "id": "41027932-e799-4196-8736-4ea99daada1a",
   "metadata": {},
   "outputs": [
    {
     "data": {
      "image/png": "[encoded data removed]",
      "text/plain": [
       "<Figure size 640x480 with 2 Axes>"
      ]
     },
     "metadata": {},
     "output_type": "display_data"
    }
   ],
   "source": [
    "# Let's plot a single EKO - e.g. the gluon-from-gluon operator\n",
    "ggop = None\n",
    "g_index = 7  # the gluon is at index 7\n",
    "# load the operator\n",
    "with eko.EKO.read(path) as evolution_operators:\n",
    "    # check we are looking indeed at the gluon\n",
    "    assert evolution_operators.bases.pids[g_index] == 21\n",
    "    with evolution_operators.operator((10000.0, 5)) as op:\n",
    "        ggop = op.operator[g_index, :, g_index, :]  # recall the indices order\n",
    "# plot it\n",
    "plt.close()\n",
    "fig, ax = plt.subplots(1, 1)\n",
    "im = plt.imshow(np.abs(ggop), cmap=\"inferno\", norm=\"log\", aspect=\"equal\")\n",
    "fig.colorbar(im, ax=ax, fraction=0.1, pad=0.04)\n",
    "fig;"
   ]
  },
  {
   "cell_type": "markdown",
   "id": "a1aeca27-97a1-4102-91b1-20828e873925",
   "metadata": {},
   "source": [
    "- The almost triangular shape is due to the form of the DGLAP equations:\n",
    "  $$\n",
    "    \\mu_F^2\\frac{d}{d\\mu_F^2} \\mathbf{f}(x,\\mu_F^2) = \\left(\\mathbf P(a_s(\\mu_F^2)) \\otimes \\mathbf{f}(\\mu_F^2)\\right)(x) = \n",
    "        \\int\\limits_x^1\\!\\frac{dy}{y}\\, \\mathbf{P}(x/y,a_s(\\mu_F^2)) \\cdot \\mathbf{f}(y,\\mu_F^2)\n",
    "  $$\n",
    "  We see that to the PDF at $x$ only the information between $x$ and 1 can contribute - this results in a triangle.\n",
    "- We see a big rise for the gluon at small x - the bright region in the top row"
   ]
  },
  {
   "cell_type": "markdown",
   "id": "ca793585-bf61-4302-97ab-cb0a0400feda",
   "metadata": {},
   "source": [
    "We are now able to evolve PDFs - let's have a look to some PDF features next!"
   ]
  },
  {
   "cell_type": "code",
   "execution_count": null,
   "id": "3b35a31c-39a9-484b-9beb-ed39c5bf8f1b",
   "metadata": {},
   "outputs": [],
   "source": []
  }
 ],
 "metadata": {
  "kernelspec": {
   "display_name": "Python 3 (ipykernel)",
   "language": "python",
   "name": "python3"
  },
  "language_info": {
   "codemirror_mode": {
    "name": "ipython",
    "version": 3
   },
   "file_extension": ".py",
   "mimetype": "text/x-python",
   "name": "python",
   "nbconvert_exporter": "python",
   "pygments_lexer": "ipython3",
   "version": "3.11.0"
  }
 },
 "nbformat": 4,
 "nbformat_minor": 5
}
