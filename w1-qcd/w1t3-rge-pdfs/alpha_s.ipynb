{
 "cells": [
  {
   "cell_type": "code",
   "id": "609edffe-a6c7-4e8b-9c86-3cced5f468eb",
   "metadata": {},
   "source": [
    "import numpy as np\n",
    "import numpy.typing as npt\n",
    "import matplotlib.pyplot as plt"
   ],
   "outputs": [],
   "execution_count": null
  },
  {
   "cell_type": "markdown",
   "id": "8b5b9108",
   "metadata": {},
   "source": "# Tutorial 3 - Renormalization and scale invariance"
  },
  {
   "metadata": {},
   "cell_type": "markdown",
   "source": "## Exercise 1 - The Koch curve",
   "id": "adc4556a812f48a9"
  },
  {
   "cell_type": "markdown",
   "id": "951e1838-a365-49ee-9395-42651ee81e00",
   "metadata": {},
   "source": [
    "The idea of renormalization is closely related to the concept of scale invariance. In this first exercise we will explore the concept of scale invariance and how it can be applied to a simple system, the [\"Koch curve\"](https://en.wikipedia.org/wiki/Koch_snowflake), which is a fractal curve that exhibits self-similarity at different scales. \n",
    "\n",
    "The following python snippet shows how to generate the Koch curve using a recursive algorithm. The Koch curve is defined by starting with a straight line segment and recursively replacing each segment with a specific pattern that introduces new points, creating a fractal structure. In this way, the curve looks the same at any scale, i.e. it is invariant under dilatation.\n",
    "\n",
    "Similary, the renormalization group tells us how physical parameters, like coupling constants, change when we change the energy resolution. At the so-called fixed point, physical parameters do not change anymore, i.e. they are invariant under dilatation, just like the Koch curve."
   ]
  },
  {
   "cell_type": "code",
   "id": "c313888a",
   "metadata": {},
   "source": [
    "# Define the generating functions for the Koch curve\n",
    "def rotation(angle: float, x: npt.ArrayLike, r: float) -> npt.ArrayLike:\n",
    "    \"\"\"Rotate points by an angle.\"\"\"\n",
    "    rot = (\n",
    "        np.array([[np.cos(angle), -np.sin(angle)], [np.sin(angle), np.cos(angle)]])\n",
    "        / r\n",
    "        @ x.T\n",
    "    )\n",
    "    return rot.T\n",
    "\n",
    "\n",
    "def koch_curve(x: npt.ArrayLike) -> npt.ArrayLike:\n",
    "    \"\"\"Add all points in this iteration.\"\"\"\n",
    "    r = 3\n",
    "    # scale by 3\n",
    "    X1 = x / r\n",
    "    # rotate by 60°\n",
    "    X2 = rotation(np.pi / 3, x, r) + [1 / r, 0]\n",
    "    # rotate by - 60°\n",
    "    X3 = rotation(-np.pi / 3, x, r) + np.array(\n",
    "        [np.cos(np.pi / 3), np.sin(np.pi / 3) / r]\n",
    "    )\n",
    "    # scale by 3\n",
    "    X4 = x / r + [2 / r, 0]\n",
    "    return [X1, X2, X3, X4]\n",
    "\n",
    "\n",
    "# let's see it in action!\n",
    "L = 1.0\n",
    "start_points = np.array([[0, 0], [L, 0]])\n",
    "iterations = 4\n",
    "fig, axes = plt.subplots(\n",
    "    1 + iterations // 3,\n",
    "    3,\n",
    "    figsize=(15, 5 * (1 + iterations // 3)),\n",
    "    clear=True,\n",
    "    layout=\"tight\",\n",
    ")\n",
    "colors = plt.rcParams[\"axes.prop_cycle\"].by_key()[\"color\"]\n",
    "# iterate the prescription\n",
    "for i, ax, col in zip(range(0, iterations + 1), axes.flat, colors):\n",
    "    if i == 0:\n",
    "        # at iteration 0 we have a simple line\n",
    "        all_points = [start_points]\n",
    "    else:\n",
    "        new_points = []\n",
    "        # loop in present point\n",
    "        for old_point in all_points:\n",
    "            new_points.extend(koch_curve(old_point))\n",
    "        # update the list of poitns\n",
    "        all_points = new_points\n",
    "    for pts in all_points:\n",
    "        ax.plot(pts[:, 0], pts[:, 1], color=col)\n",
    "    ax.set_title(f\"Iteration {i}\")\n",
    "    ax.set_ylim(0, L)"
   ],
   "outputs": [],
   "execution_count": null
  },
  {
   "metadata": {},
   "cell_type": "markdown",
   "source": "Now, imposing invariance under infinitesimal dilatations lets us derive its corresponding Renormalization Group Equation (RGE). For this we consider the function $N(\\ell)$ that describes the number of line segments at a given segment length $\\ell$. ",
   "id": "a58945fde1c1ea03"
  },
  {
   "metadata": {},
   "cell_type": "markdown",
   "source": [
    "### Question 1A\n",
    "\n",
    "Find the number of line segments $N_n$ and the length of each segment $\\ell_n$ at the $n$-th iteration of the Koch curve."
   ],
   "id": "8ab31c38ad0ed8fd"
  },
  {
   "metadata": {},
   "cell_type": "markdown",
   "source": [
    "### Question 1B\n",
    "\n",
    "Express $N$ in terms of $\\ell$ by eliminating $n$ and show that $N(\\ell)$ scales under rescalings by $\\lambda$ as\n",
    "\n",
    "$$ N(\\lambda \\ell) = \\lambda^{-\\gamma} N(\\ell) $$\n",
    "\n",
    "where $\\gamma$ is the scaling dimension. What value of $\\gamma$ do you find? "
   ],
   "id": "f6e86e12d9bb041d"
  },
  {
   "metadata": {},
   "cell_type": "markdown",
   "source": [
    "### Question 1C\n",
    "\n",
    "Show that for infinitesimal transformations $\\lambda \\ell$ = $\\ell + \\delta\\ell$ the scaling relation can be written as a differential equation:\n",
    "\n",
    "$$ \\ell \\frac{d N}{d \\ell} = -\\gamma N $$\n",
    "\n",
    "where $\\gamma$ is the scaling dimension you found in the previous exercise. \n"
   ],
   "id": "f8f2e8a25d36daf4"
  },
  {
   "cell_type": "markdown",
   "id": "80977864-2340-45ab-962b-ec2227f25331",
   "metadata": {},
   "source": [
    "Similarly in QCD once the renormalized fields are defined in terms of the bare quantities and imposing this \n",
    "procedure holds at any arbitrary scale, it is possible to obtain a RGE. In the following tutorial, we will analyze how this particular differential equation can be applied to describe the dependency \n",
    "on the energy scale of the strong coupling $a_s$."
   ]
  },
  {
   "cell_type": "markdown",
   "id": "07d47633-be52-4c84-9286-6d8522d14c13",
   "metadata": {},
   "source": "## Exercise 2 - The strong coupling running"
  },
  {
   "cell_type": "markdown",
   "id": "c0ac0c18",
   "metadata": {},
   "source": [
    "Choosing the common normalization $a_s = \\alpha_s/(4\\pi)$ we can write down the the RGE of the QCD strong coupling by:\n",
    "\n",
    "$$ \\mu^2 \\frac{d a_s}{d \\mu^2} = \\beta(a_s) = - \\sum_{j=0} \\beta_j a_s^{j+2} $$\n",
    "\n",
    "where $\\beta(a_s)$ is calculated perturbatively using Feynman diagrams.\n",
    "\n",
    "Let's take a closer look to that equation:\n",
    "- it is a first order ordinary differential equation; so, to solve it we need a boundary value $a_s(\\mu_0^2)$ given at a reference scale $\\mu_0$\n",
    "- the dimensions check out: $a_s$ is a dimensionless quantity, so are all $\\beta_j$ and the differential operators are dimensionless as well"
   ]
  },
  {
   "cell_type": "markdown",
   "id": "074a6a4e-3cbe-4d9a-8e8d-722ed8d14413",
   "metadata": {},
   "source": [
    "Note that our definition of the coefficients $\\beta_j$ pulls out a minus sign (other people use other conventions), such that $\\beta_0 > 0$ in our convention. The strong coupling has a negative derivative (lhs), meaning that it it becomes smaller at larger scales - people refer to this as [asymptotic freedom](https://en.wikipedia.org/wiki/Asymptotic_freedom) and this is the reason why we do QCD experiments at high energy colliders: QCD becomes perturbative in the high energy region.\n",
    "\n",
    "On the other hand, the beta function is negative, so there is no zero derivative, and hence there is no fixed point in QCD at any finite scale (but of course at $\\mu^2 = \\infty$)."
   ]
  },
  {
   "cell_type": "markdown",
   "id": "70d71687-343f-4123-bb04-e11a561c0fe3",
   "metadata": {},
   "source": [
    "### Exercise 2A\n",
    "\n",
    "Solve the RGE at leading order, $j=0$, and show that the solution is given by\n",
    "\n",
    "$$ a_s(\\mu^2) = \\frac{a_s(\\mu_0^2)}{1 + \\beta_0 a_s(\\mu_0^2) \\log(\\mu^2/\\mu_0^2)} $$\n",
    "\n",
    "and expand the solution up to quadratic order in $a_s(\\mu_0^2)$. What do you notice when $\\mu$ and $\\mu_0$ are far apart?\n",
    "\n"
   ]
  },
  {
   "metadata": {},
   "cell_type": "markdown",
   "source": "The point where the denominator becomes 0 is called the [Landau pole](https://en.wikipedia.org/wiki/Landau_pole) - since the coupling would become infinite this is surely not a region where QCD can be treated as a perturbative QFT.",
   "id": "36913a2c-ced6-453e-8a45-ad033af9380c"
  },
  {
   "metadata": {},
   "cell_type": "markdown",
   "source": "### Exercise 2B",
   "id": "434548cb3fb2ce0f"
  },
  {
   "cell_type": "markdown",
   "id": "cb6d625e-13e3-4f19-b57c-902e35c26344",
   "metadata": {},
   "source": "The [eko](https://github.com/NNPDF/eko) library was developed to solve the RGE of the strong coupling - let's use it to plot the strong coupling!"
  },
  {
   "cell_type": "code",
   "id": "685a244e",
   "metadata": {},
   "source": [
    "from eko.couplings import CouplingEvolutionMethod, Couplings, CouplingsInfo\n",
    "from eko.quantities.heavy_quarks import QuarkMassScheme\n",
    "from eko.beta import beta_qcd\n",
    "\n",
    "# setup the boundary conditions\n",
    "ref = CouplingsInfo(\n",
    "    alphas=0.1180,  # reference scale for QCD coupling\n",
    "    alphaem=0.007496,  # reference scale for QED coupling\n",
    "    scale=91.00,  # reference scale\n",
    "    num_flavs_ref=5,  # number of active flavors at the reference scale\n",
    "    max_num_flavs=6,  # max flavors allowed\n",
    ")\n",
    "order = (1, 0)  # Set perturbative order (QCD, QED)\n",
    "# create a strong coupling object\n",
    "sc = Couplings(\n",
    "    couplings=ref,\n",
    "    order=order,\n",
    "    method=CouplingEvolutionMethod.EXACT,  # Set solution method EXACT or EXPANDED\n",
    "    masses=np.array([1.51, 4.92, 172.5]) ** 2,  # Set heavy quarks masses\n",
    "    hqm_scheme=QuarkMassScheme.POLE,  # Use POLE masses or MSBAR ?\n",
    "    thresholds_ratios=np.array([1.0, 1.0, 1.0])\n",
    "    ** 2,  # Set heavy quarks threshold scales\n",
    ")\n",
    "\n",
    "\n",
    "# compute some values of a_s\n",
    "Q2_grid = np.geomspace(1, 1e4, 100)\n",
    "as_vals_nf_5 = [sc.a_s(Q2, 5) for Q2 in Q2_grid]\n",
    "\n",
    "\n",
    "# plot the running strong coupling\n",
    "plt.close()\n",
    "plt.plot(Q2_grid, as_vals_nf_5)\n",
    "\n",
    "\n",
    "plt.title(\"LO strong coupling\")\n",
    "plt.xscale(\"log\")\n",
    "plt.ylabel(r\"$a_s(\\mu^2)$\")\n",
    "plt.xlabel(r\"$\\mu^2$ [GeV²]\")\n",
    "plt.show()"
   ],
   "outputs": [],
   "execution_count": null
  },
  {
   "metadata": {},
   "cell_type": "markdown",
   "source": "Repeat this for 4 active flavors and plot the strong coupling again, together with the previous one at `num_flavs_ref=5`. Comment on what you see and argue which one is the correct one, if any.",
   "id": "21fdd59497720ebe"
  },
  {
   "cell_type": "markdown",
   "id": "e884ff0f-e54b-4d20-a580-1f504d49ff73",
   "metadata": {},
   "source": [
    "### Flavour thresholds and matching conditions\n",
    "\n",
    "The problem is that the beta function only holds for a given number of light/active flavors $n_f$ since the beta coefficients depend on $n_f$.\n",
    "However, in practice the assumptions on how many flavors can be considered light is a dynamic choice - we want to change that according to the scale.\n",
    "The scale at which we change from one flavor regime to another we refer to as matching scale $\\mu_h$ - and a natural choice for the matching scale are the heavy quark masses. In our example above this means that above $m_b$ we solve the beta function with $n_f=5$ (green), but below with with $n_f=4$ (blue).\n",
    "Note, that our default solution (red) first follows the green curve ($n_f=5$) and then the blue curve ($n_f=4$) and in the opposite region the two do not coincide. Moreover for $\\mu=m_b$ all three curves agree."
   ]
  },
  {
   "cell_type": "code",
   "id": "80af0d79-6599-487e-ba21-42256daadeff",
   "metadata": {},
   "source": [
    "# Let's have a closer look to the region around the bottom mass\n",
    "mb = 4.92\n",
    "Q2_grid = np.geomspace(mb**2 * (1.0 - 0.2), mb**2 * (1.0 + 0.2), 100)\n",
    "\n",
    "# Let's plot again the strong coupling running\n",
    "plt.close()\n",
    "as_lo_qcd = [sc.a_s(Q2) for Q2 in Q2_grid]\n",
    "plt.plot(Q2_grid, as_lo_qcd, \"r\", label=\"default\")\n",
    "# We add two more line, on which we comment in a second\n",
    "plt.plot(Q2_grid, [sc.a_s(Q2, 4) for Q2 in Q2_grid], \"b--\", label=\"$n_f=4$\")\n",
    "plt.plot(Q2_grid, [sc.a_s(Q2, 5) for Q2 in Q2_grid], \"g--\", label=\"$n_f=5$\")\n",
    "plt.title(\"LO strong coupling\")\n",
    "plt.xscale(\"log\")\n",
    "plt.ylabel(r\"$a_s(\\mu^2)$\")\n",
    "plt.xlabel(r\"$\\mu^2$ [GeV²]\")\n",
    "plt.legend()\n",
    "plt.show()"
   ],
   "outputs": [],
   "execution_count": null
  },
  {
   "cell_type": "markdown",
   "id": "63e3f342-5d12-47c3-b1db-68361803481f",
   "metadata": {},
   "source": [
    "\n",
    "\n",
    "The exact procedure on how to join two different flavor regimes is refered to as **matching condition**. At LO (as shown here), you only need to change the\n",
    "coefficients of the beta function, but at higher perturbative orders you may need to do more (i.e. finite corrections have to be applied). Putting the quark thresholds to coincide with the quark masses is a choice and we can in practice choose any value."
   ]
  },
  {
   "cell_type": "markdown",
   "id": "fa3e6ccb-d980-460c-ba7f-13f2bb15770e",
   "metadata": {},
   "source": "### Higher order corrections"
  },
  {
   "cell_type": "markdown",
   "id": "03927dce-45fd-441b-993a-7594bd6badda",
   "metadata": {},
   "source": "Now we start to consider higher order corrections, i.e. more terms in the beta function, i.e. $\\beta_1,\\beta_2,\\ldots$"
  },
  {
   "cell_type": "code",
   "id": "302707ba-73f6-4a64-8818-601941087496",
   "metadata": {},
   "source": [
    "# Let's compare the exact and the expanded solution\n",
    "sc_lo = Couplings(\n",
    "    couplings=ref,\n",
    "    order=(1, 0),  # Set perturbative order (QCD, QED)\n",
    "    method=CouplingEvolutionMethod.EXACT,  # Set solution method EXACT or EXPANDED\n",
    "    masses=np.array([1.51, 4.92, 172.5]) ** 2,  # Set heavy quarks masses\n",
    "    hqm_scheme=QuarkMassScheme.POLE,  # Use POLE masses or MSBAR ?\n",
    "    thresholds_ratios=np.array([1.0, 1.0, np.inf])\n",
    "    ** 2,  # Set heavy quarks threshold scales\n",
    ")\n",
    "\n",
    "sc_nlo = Couplings(\n",
    "    couplings=ref,\n",
    "    order=(2, 0),  # Set perturbative order (QCD, QED)\n",
    "    method=CouplingEvolutionMethod.EXACT,  # Set solution method EXACT or EXPANDED\n",
    "    masses=np.array([1.51, 4.92, 172.5]) ** 2,  # Set heavy quarks masses\n",
    "    hqm_scheme=QuarkMassScheme.POLE,  # Use POLE masses or MSBAR ?\n",
    "    thresholds_ratios=np.array([1.0, 1.0, np.inf])\n",
    "    ** 2,  # Set heavy quarks threshold scales\n",
    ")\n",
    "\n",
    "# we collect first the data ...\n",
    "Q2_grid = np.linspace(20**2, 170**2, 100)\n",
    "\n",
    "lo_qcd = np.array([sc_lo.a_s(Q2) for Q2 in Q2_grid])\n",
    "nlo_qcd = np.array([sc_nlo.a_s(Q2) for Q2 in Q2_grid])\n",
    "\n",
    "# and then plot\n",
    "plt.close()\n",
    "fig = plt.figure()\n",
    "fig.suptitle(\"strong coupling\")\n",
    "ax0 = fig.add_subplot(3, 1, (1, 2))\n",
    "ax0.plot(Q2_grid, lo_qcd, label=\"LO QCD\")\n",
    "ax0.plot(Q2_grid, nlo_qcd, label=\"NLO QCD\")\n",
    "\n",
    "\n",
    "ax0.legend()\n",
    "ax0.set_ylabel(r\"$a_s(\\mu^2)$\")\n",
    "ax1 = fig.add_subplot(3, 1, 3, sharex=ax0)\n",
    "ax1.plot(Q2_grid, nlo_qcd / lo_qcd - 1)\n",
    "ax1.set_ylabel(r\"rel. difference\")\n",
    "ax1.set_xlabel(r\"$\\mu^2$ [GeV²]\")\n",
    "ax1.set_xscale(\"log\")\n",
    "fig;"
   ],
   "outputs": [],
   "execution_count": null
  },
  {
   "cell_type": "markdown",
   "id": "671d6003",
   "metadata": {},
   "source": [
    "## Exercise 2C\n",
    "* Can you plot now the running of $a_{em}$ and $a_s$ with $QED \\otimes QCD$ ?\n",
    "* What is the main difference with respect to the $QCD$ one ?\n",
    "\n",
    "Fill in the gaps:"
   ]
  },
  {
   "cell_type": "code",
   "id": "25bf6c9a",
   "metadata": {},
   "source": [
    "# setup the boundary conditions\n",
    "ref = CouplingsInfo(\n",
    "    alphas=0.1180,  # reference scale for QCD coupling\n",
    "    alphaem=0.007496,  # reference scale for QED coupling\n",
    "    scale=91.00,  # reference scale\n",
    "    num_flavs_ref=5,  # number of active flavors at the reference scale\n",
    "    max_num_flavs=6,  # max flavors allowed\n",
    "    em_running=True,\n",
    ")\n",
    "# create a strong coupling object with the exact solution method of the evolution\n",
    "sc = Couplings(\n",
    ")\n",
    "\n",
    "\n",
    "# Create definitions for a_em and a_s from the strong coupling object\n",
    "\n",
    "def a_em(Q2: float) -> float:\n",
    "    \"\"\"Return :math:`a_{em} = \\alpha_{em} / (4 \\pi)`.\"\"\"\n",
    "    \n",
    "def a_s(Q2: float) -> float:\n",
    "    \"\"\"Return :math:`a_{s} = \\alpha_{s} / (4 \\pi)`.\"\"\"\n",
    "\n",
    "\n",
    "# compute some values of a_s and a_em \n",
    "Q2_grid = np.geomspace(1, 1e4, 100)\n",
    "aem_vals = \n",
    "as_vals = \n",
    "\n",
    "\n",
    "# plot the running EM coupling (with QCD corrections)\n",
    "\n",
    "\n",
    "# plot the running strong coupling (with QED corrections)\n"
   ],
   "outputs": [],
   "execution_count": null
  }
 ],
 "metadata": {
  "@webio": {
   "lastCommId": null,
   "lastKernelId": null
  },
  "kernelspec": {
   "display_name": "Python (env_como)",
   "language": "python",
   "name": "env_como"
  },
  "language_info": {
   "codemirror_mode": {
    "name": "ipython",
    "version": 3
   },
   "file_extension": ".py",
   "mimetype": "text/x-python",
   "name": "python",
   "nbconvert_exporter": "python",
   "pygments_lexer": "ipython3",
   "version": "3.12.11"
  }
 },
 "nbformat": 4,
 "nbformat_minor": 5
}
