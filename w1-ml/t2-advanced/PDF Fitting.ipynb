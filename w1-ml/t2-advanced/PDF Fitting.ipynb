{
 "cells": [
  {
   "cell_type": "markdown",
   "id": "3ab56588",
   "metadata": {},
   "source": [
    "_This notebook is part of the material for the [ML Tutorials](https://github.com/NNPDF/como-2025) session._\n",
    "\n",
    "# PDF Regression"
   ]
  },
  {
   "cell_type": "markdown",
   "id": "f760483d",
   "metadata": {},
   "source": [
    "In this tutorial we are going to utilize and expand on what you learned yesterday in the regression example.\n",
    "We are going to apply the same techniques to the problem of PDF fitting.\n",
    "\n",
    "#### In this tutorial\n",
    "\n",
    "We start by fitting a known PDF (as given by LHAPDF) for a fixed scale.\n",
    "We start with a naive neural network (although already tuned to our problem) to get an approximation of the pdf itself.\n",
    "\n",
    "Then we will apply some physical constraints to the result for which we cannot use the ready-made ML tools given by `tensorflow`.\n",
    "And we will preprocess the input to avoid saturation due to the different scales of the input.\n",
    "\n",
    "Finally we will complicate a bit more the fit by adding fitting all partons at the same time."
   ]
  },
  {
   "cell_type": "code",
   "execution_count": null,
   "id": "91230761",
   "metadata": {},
   "outputs": [],
   "source": [
    "# This is a suggestion of imports that might be useful for this tutorial\n",
    "from collections import defaultdict\n",
    "\n",
    "import numpy as np\n",
    "import tensorflow as tf\n",
    "from lhapdf import mkPDF\n",
    "from matplotlib import pyplot as plt\n",
    "from tensorflow import keras\n",
    "from tensorflow.keras.models import Sequential\n",
    "\n",
    "tf.keras.backend.clear_session()"
   ]
  },
  {
   "cell_type": "markdown",
   "id": "bd22b35f",
   "metadata": {},
   "source": [
    "## Fitting a PDF\n",
    "\n",
    "We are going to use the `lhapdf` library and the `NNPDF40_nnlo_as_01180` PDF set. We start by reading a large number of points that we will use to train the network later on."
   ]
  },
  {
   "cell_type": "markdown",
   "id": "d8965ba0",
   "metadata": {},
   "source": [
    "### Reading the data"
   ]
  },
  {
   "cell_type": "code",
   "execution_count": null,
   "id": "0aa2ec66",
   "metadata": {},
   "outputs": [],
   "source": [
    "pdf_set = \"NNPDF40_nnlo_as_01180\"\n",
    "pdf_target = mkPDF(pdf_set)\n",
    "\n",
    "q0 = 1.65  # Reference scale\n",
    "npoints = int(1e5)  # How many points to use for training\n",
    "\n",
    "xgrid = np.concatenate([np.logspace(-5, -1, npoints // 2), np.linspace(0.1, 1, npoints // 2)])\n",
    "pdf_grid_all = pdf_target.xfxQ2(xgrid, np.ones_like(xgrid) * q0**2)\n",
    "\n",
    "print(\"\\nInspect the first few values of pdf_grid_all:\\n\")\n",
    "print(\"\\n\".join(str(i) for i in pdf_grid_all[:3]))"
   ]
  },
  {
   "cell_type": "markdown",
   "id": "d4a413b0",
   "metadata": {},
   "source": [
    "### 0. Plot some PDFs to see how they look\n",
    "\n",
    "Let's start by visualazing the PDFs."
   ]
  },
  {
   "cell_type": "code",
   "execution_count": null,
   "id": "fce0e3d8-456f-45b0-a303-ebe3aeb1e2af",
   "metadata": {},
   "outputs": [],
   "source": [
    "# Select some flavours, remember than 21 correspond to the gluon!\n",
    "flavour_select = [21, 1, 2, -2]\n",
    "\n",
    "# Since pdf_grid_all is a list of dictionaries with a dictionary per point\n",
    "# we are going to separate it as a dictionary {flavour : array of values}\n",
    "pdf_grid = {i:[] for i in flavour_select}\n",
    "\n",
    "# Take only a subset of values for the plot (otherwise it might be too heavy in memory!)\n",
    "for point in pdf_grid_all[::200]:\n",
    "    for pid in flavour_select:\n",
    "        pdf_grid[pid].append(point[pid])\n",
    "\n",
    "fig, ax = plt.subplots(2, 2, figsize=(12, 6), sharex=True)\n",
    "fig.suptitle(f\"PDF plots for {pdf_set}, Q = {q0}\")\n",
    "for i, (parton, val) in enumerate(pdf_grid.items()):\n",
    "    plt.subplot(2, 2, i + 1)\n",
    "\n",
    "    plt.plot(xgrid[::200], val, label=f\"${parton}$\")\n",
    "    plt.legend()\n",
    "    plt.xscale(\"log\")\n",
    "    if i > 1:\n",
    "        plt.xlabel(\"x\")\n",
    "    plt.ylabel(f\"$x_{{{parton}}}(x)$\")"
   ]
  },
  {
   "cell_type": "markdown",
   "id": "aaea364a",
   "metadata": {},
   "source": [
    "### 1. Fit a Neural Network PDF: NN PDF\n",
    "\n",
    "1. Create a model that takes 1 value as input (`x`) and outputs 1 value (the PDF at that value of x, f(x)). A suggestion would be a perceptron with ~3 layers, ~16 hidden units per layer\n",
    "\n",
    "2. Write a plotting function so that we can easily compare the output of our model to the actual values, use it with your untrained model to see how (bad!) the results are\n",
    "\n",
    "3. Perform a fit for a choosen PDF flavour\n",
    "\n",
    "4. Perform the same comparison as point 2 with the trained PDF!\n",
    "\n",
    "code suggestion:\n",
    "```python\n",
    "    # You can create a sequential model with\n",
    "    model = Sequential(name=\"pdf\")\n",
    "    \n",
    "    # Don't forget to compile your model!\n",
    "    optimizer = keras.optimizers.Nadam()\n",
    "    model.compile(opt, loss=\"mse\")\n",
    "```"
   ]
  },
  {
   "cell_type": "code",
   "execution_count": null,
   "id": "2175ed6e-d98e-41dc-a837-2c14179695e5",
   "metadata": {},
   "outputs": [],
   "source": [
    "def generate_model(outputs=1, input_layer=None, nlayers=3, units=14, activation=\"tanh\"):\n",
    "    \"\"\"\n",
    "    Create a tensorflow sequential model where all intermediate layers have the same size\n",
    "    This function accepts an already constructed layer as the input.\n",
    "\n",
    "    All hidden layers will have the same number of nodes for simplicity\n",
    "\n",
    "    Arguments:\n",
    "        outputs: int (default=1)\n",
    "                number of output nodes (how many flavours are we training)\n",
    "        input_layer: KerasTensor (default=None)\n",
    "                if given, sets the input layer of the sequential model\n",
    "        nlayers: int\n",
    "                number of hidden layers of the network\n",
    "        units: int\n",
    "                number of nodes of every hidden layer in the network\n",
    "        activation: str\n",
    "                activation function to be used by the hidden layers (ex: 'tanh', 'sigmoid', 'linear')\n",
    "\n",
    "    Returns:\n",
    "        A sequential tensorflow model\n",
    "    \"\"\"\n",
    "    model = ...\n",
    "    return model\n",
    "\n",
    "pdf_model = generate_model()\n",
    "\n",
    "# Check that the model does indeed take inputs of size 1 and returns outputs of size 1\n",
    "# Let's test with a fake input of 3 events\n",
    "fake_input = np.random.rand(3, 1)\n",
    "print(f\"Is the output of the model correct? {np.allclose(pdf_model(fake_input).shape, [3,1])}\")"
   ]
  },
  {
   "cell_type": "code",
   "execution_count": null,
   "id": "19cbbab5-9cac-4e90-8a92-f806145730c8",
   "metadata": {},
   "outputs": [],
   "source": [
    "# Compare the current model (before training) with the actual PDF data\n",
    "# For that we need:\n",
    "\n",
    "# 1. Reshape the input grid so that its shape is (events, 1), since that's what our model expects\n",
    "# 2. Select the flavour we want to test\n",
    "\n",
    "flavour_selected = 21\n",
    "parton_data = np.array([pdf_grid[flavour_selected] for pdf_grid in pdf_grid_all])\n",
    "input_xgrid = xgrid.reshape(-1, 1)"
   ]
  },
  {
   "cell_type": "code",
   "execution_count": null,
   "id": "8c42689e-141c-4de3-919a-52a9449b9b83",
   "metadata": {},
   "outputs": [],
   "source": [
    "def compare_model(model, ivals, fval, label=\"flavour\", scale=\"linear\"):\n",
    "    \"\"\"Compare the result of a model for a PDF with the target result\"\"\"\n",
    "    vals = model(ivals)\n",
    "\n",
    "    plt.plot(ivals, vals, label=\"NN\")\n",
    "    plt.plot(ivals, fval, label=label)\n",
    "    plt.legend()\n",
    "    plt.xlabel(\"x\")\n",
    "    plt.ylabel(rf\"$x{label}(x, Q_{0})$\")\n",
    "    plt.xscale(scale)\n",
    "\n",
    "compare_model(pdf_model, input_xgrid, parton_data, label=\"gluon\")"
   ]
  },
  {
   "cell_type": "code",
   "execution_count": null,
   "id": "3b486a57-a21a-4f5a-9de1-6156029651ec",
   "metadata": {},
   "outputs": [],
   "source": [
    "# Now perform the fit against the PDF data\n",
    "# You can use the same `input_xgrid` and `parton_data` as input/output of your fit!\n",
    "\n",
    "{...}"
   ]
  },
  {
   "cell_type": "code",
   "execution_count": null,
   "id": "87bc8fe5-c941-4b9f-9923-f1d7130bb3e9",
   "metadata": {},
   "outputs": [],
   "source": [
    "# And now try to do the same comparison as before using the function you wrote!\n",
    "{...}"
   ]
  },
  {
   "cell_type": "markdown",
   "id": "b114e975",
   "metadata": {},
   "source": [
    "### 2. Physical motivation: output processing\n",
    "\n",
    "While it is possible that the results of the Neural Networks are already quite good, they might not be physically sound.\n",
    "\n",
    "Check what happens when we close to x->1.0\n",
    "\n",
    "```python\n",
    "    print(f\"PDF result for f(x=1.0) = {pdf_target.xfxQ2(target_pid, 1.0, q0**2):.2}\")\n",
    "    print(f\"NN result for f(x=1.0) = {pdf_model(np.array([[1.0]])).numpy()[0,0]:.2}\")\n",
    "```\n",
    "\n",
    "While it is possible for the Network to eventually learn that the value of the PDF in the limit $x\\to1$ should be 0, it will take it a very long time to make it exactly 0 since the contribution to the loss will be very small.\n",
    "However, since this is a bit of knowledge that we already have, we can process the output to ensure that we have a network that is equal to 0 when x=1!\n",
    "\n",
    "\n",
    "1. Modify the model so that it is equal to 0 in the limit x->1.0\n",
    "\n",
    "2. Redo the fit and check again!\n",
    "\n",
    "3. If you use the hint below, try to play around the with the possibilities. Choosing a fixed value of $\\beta$ might bias your results, make it a trainable parameter!"
   ]
  },
  {
   "cell_type": "markdown",
   "id": "12c0521a",
   "metadata": {},
   "source": [
    "#### Hint:\n",
    "\n",
    "In TensorFlow any model can also be utilized as a layer. One possibility is to write a custom layer at the end \n",
    "\n",
    "\\begin{equation}\n",
    "    x\\text{pdf}(x) = (1 - x)^{\\beta}\\text{NN}(x)\n",
    "\\end{equation}\n",
    "\n",
    "While the default layers included in TensorFlow and Keras are usually enough for most Machine Learning applications, sometimes it will be necessary to create custom operations.\n",
    "\n",
    "We can start by creating a layer with no trainable parameters to apply the operation $(1-x)^{\\beta}$ to our output, where we will fix the value of $\\beta$.\n",
    "\n",
    "\n",
    "code suggestion:\n",
    "```python\n",
    "# Example of layer that takes an input and computes the above equation\n",
    "class FixedPreprocessing(tf.keras.layers.Layer):\n",
    "    \"\"\"This layer generates a preprocessing (1-x)**beta for a fixed value of beta\"\"\"\n",
    "\n",
    "    def __init__(self, *args, beta=1.0, **kwargs):\n",
    "        super().__init__(*args, **kwargs)\n",
    "        self._beta = beta\n",
    "\n",
    "    def call(self, x):\n",
    "        return (1.0 - x) ** self._beta\n",
    "\n",
    "\n",
    "# Since the layer above take as input the same \"x\" as the PDF does, we can no longer use the sequential model by itself\n",
    "# but instead we will have to give the input explicitly\n",
    "# Modify the generate_model above so that it takes the input layer as an argument so you can:\n",
    "\n",
    "# Create an input layer outside of the function\n",
    "input_layer = tf.keras.layers.Input(shape=(1,))\n",
    "\n",
    "# Add it to the model before adding the Dense layers\n",
    "    model.add(input_layer)\n",
    "    \n",
    "# Then you can modify your model with the new \"preprocessing\" layer\n",
    "# 1. The layer needs to be createad\n",
    "# 2. A multiplication operation need to be prepared\n",
    "# 3. Get a final model which multiplies both the pdf and the preprocessing layer. We can reuse the input_layer from before!\n",
    "fixed_preprocessing_factor = FixedPreprocessing(beta=1.0)\n",
    "multiplicative_layer = tf.keras.layers.Multiply()\n",
    "final_model = multiplicative_layer([my_pdf_model(input_layer), fixed_preprocessing_factor(input_layer)])\n",
    "```"
   ]
  },
  {
   "cell_type": "code",
   "execution_count": null,
   "id": "48fb6c15-95b9-4849-add5-47cd2173d6cb",
   "metadata": {},
   "outputs": [],
   "source": [
    "# Modify the model\n",
    "\n",
    "{...}"
   ]
  },
  {
   "cell_type": "code",
   "execution_count": null,
   "id": "61767407-a0d1-4c01-a750-ef8de40b86e5",
   "metadata": {},
   "outputs": [],
   "source": [
    "# Perform the fit again, you can use the same input and output\n",
    "\n",
    "{...}"
   ]
  },
  {
   "cell_type": "code",
   "execution_count": null,
   "id": "39209ba1-5fcd-43a6-8ff5-f6ec3306bc8a",
   "metadata": {},
   "outputs": [],
   "source": [
    "# Plot the comparison of this new model with the previous PDF and inspect its value as x -> 1\n",
    "\n",
    "{...}"
   ]
  },
  {
   "attachments": {
    "image.png": {
     "image/png": "[encoded data removed]"
    }
   },
   "cell_type": "markdown",
   "id": "3e2b0b77",
   "metadata": {},
   "source": [
    "### 3. Physical motivation: output processing\n",
    "\n",
    "If you are familiar with PDFs you might be wondering why are we looking at the large-x behaviour of the PDF when most of the PDF contribution (specially for the gluon) is concentrated at small x. Let's see how our model behaved at small x values of by plotting it with a log scale.\n",
    "\n",
    "1. Produce the same type of plot that you did above but in a logarithmic scale, so you can see what's happening at low-x! For instance:\n",
    "\n",
    "![image.png](attachment:image.png)\n"
   ]
  },
  {
   "cell_type": "markdown",
   "id": "0861f48b",
   "metadata": {},
   "source": [
    "The behaviour at small x is quite wrong and for the last few decades! Despite the fact that we generated half of the data logarithmically at small x precisely to make sure that we had enough data to train this region.\n",
    "\n",
    "In addition to that, we are seeing that the behaviour of the network is quite flat. This is a common problem when the input data involves different scales and which require some form of preprocessing of the input."
   ]
  },
  {
   "cell_type": "code",
   "execution_count": null,
   "id": "a2f15f5f",
   "metadata": {},
   "outputs": [],
   "source": [
    "c, b = np.histogram(xgrid)\n",
    "cl, bl = np.histogram(np.log(xgrid))\n",
    "\n",
    "plt.subplots(1, 2, figsize=(11, 4))\n",
    "plt.subplot(1, 2, 1)\n",
    "plt.title(\"Linear\")\n",
    "plt.stairs(c, b, fill=True)\n",
    "plt.xlabel(\"x\")\n",
    "plt.ylabel(\"N\")\n",
    "plt.subplot(1, 2, 2)\n",
    "plt.title(\"Log\")\n",
    "plt.stairs(cl, bl, fill=True)\n",
    "plt.xlabel(\"log(x)\")\n",
    "plt.ylabel(\"N\")"
   ]
  },
  {
   "cell_type": "markdown",
   "id": "b427ae92",
   "metadata": {},
   "source": [
    "In this particular case since we know the approximate scaling of the input we are going to exploit said knowledge by passing the linear in x and logarithmic in x behaviour as two different dimensions of the input.\n",
    "\n",
    "1. Create a layer that preprocess the input or does some kind of scaling.\n",
    "\n",
    "2. Modify the model with your new model, refit and compare!\n",
    "\n",
    "suggestion:\n",
    "\n",
    "```python\n",
    "class InputScaling(tf.keras.layers.Layer):\n",
    "    \"\"\"This layer applies a logarithmic scaling to the input and then concatenates it to the actual input\n",
    "    This layer is dim=1 --> dim=2\n",
    "    \"\"\"\n",
    "\n",
    "    def call(self, x):\n",
    "        return tf.concat([x, tf.math.log(x)], axis=-1)\n",
    "```"
   ]
  },
  {
   "cell_type": "code",
   "execution_count": null,
   "id": "2ac91dcb-1c57-44a7-83a7-e5d6700bac2d",
   "metadata": {},
   "outputs": [],
   "source": [
    "# 1. Modify the model generation code so that it accepts the output of InputScaling as the first layer\n",
    "\n",
    "{...}"
   ]
  },
  {
   "cell_type": "code",
   "execution_count": null,
   "id": "1c955fab-afbd-40af-b30c-a14fb63f045e",
   "metadata": {},
   "outputs": [],
   "source": [
    "# 2. Regenerate the model, fit and compare\n",
    "\n",
    "{...}"
   ]
  },
  {
   "cell_type": "markdown",
   "id": "859ecc90",
   "metadata": {},
   "source": [
    "### 4. Multiflavour fit\n",
    "\n",
    "In reality the proton is not made only of gluons and indeed all flavours do contribute to it. Let's utilize what we  know to do a fit for all flavours at the same time. At the fitting that we are using only 9 partons are active: u, d, c, s and their antiparticles plus the gluon.\n",
    "\n",
    "The input is still one dimensional (x) which will become 2-dimensional when we apply the log preprocessing. The output instead is now 9-dimensional.\n",
    "\n",
    "1. Create a new model with 9 values as the output\n",
    "\n",
    "2. Train all flavours at the same time\n",
    "\n",
    "```python\n",
    "# Prepare the output data\n",
    "output_basis = [-4, -3, -2, -1, 21, 1, 2, 3, 4]\n",
    "noutput = len(output_basis)\n",
    "\n",
    "\n",
    "output_data = np.zeros((len(pdf_grid_all), noutput))\n",
    "\n",
    "for i, pdf_grid in enumerate(pdf_grid_all):\n",
    "    for j, pid in enumerate(output_basis):\n",
    "        output_data[i, j] = pdf_grid[pid]\n",
    "\n",
    "output_data = np.array(output_data)\n",
    "output_data.shape\n",
    "```"
   ]
  },
  {
   "cell_type": "code",
   "execution_count": null,
   "id": "031884c5-805b-40b1-b396-113f0741af7d",
   "metadata": {},
   "outputs": [],
   "source": [
    "# Create your new model and train it!\n",
    "\n",
    "pdf_model_multiflavour = {...}"
   ]
  },
  {
   "cell_type": "code",
   "execution_count": null,
   "id": "5ee38207-18e5-4fd0-a821-50f5be2ee918",
   "metadata": {},
   "outputs": [],
   "source": [
    "# Plot a few flavours!\n",
    "\n",
    "step = 100\n",
    "reduced_xgrid = input_xgrid[::step]\n",
    "model_values = pdf_model_multiflavour(reduced_xgrid).numpy()\n",
    "lhapdf_values = output_data[::step]\n",
    "\n",
    "plt.subplots(2, 2, figsize=(12, 12))\n",
    "\n",
    "for i, pid in enumerate([1, 2, 21, -1]):\n",
    "    idx = output_basis.index(pid)\n",
    "    name = str(pid)\n",
    "\n",
    "    plt.subplot(2, 2, i + 1)\n",
    "\n",
    "    plt.plot(reduced_xgrid[:, 0], model_values[:, idx], label=\"NN\")\n",
    "    plt.plot(reduced_xgrid[:, 0], lhapdf_values[:, idx], label=f\"${name}$\")\n",
    "    plt.legend()\n",
    "    plt.xlabel(\"x\")\n",
    "    plt.ylabel(rf\"$x{name}(x, Q_{0})$\")\n",
    "    plt.xscale(\"log\")"
   ]
  },
  {
   "cell_type": "markdown",
   "id": "fdc9eb7b-22c6-4cb6-8238-bed40883f084",
   "metadata": {},
   "source": [
    "### 5. Physics out of the Neural Network\n",
    "\n",
    "Since we have used LHAPDF as the source of data, we already know that our Neural Network corresponds to a physical PDF. However, in general this is not the case, we don't have access to the \"true\" law and physical constraints are not necessarily fulfilled by construction.\n",
    "\n",
    "One example is that of the sum rules. If you have a multi-flavour PDF fit, we can compute the sum rule for the valence:"
   ]
  },
  {
   "cell_type": "code",
   "execution_count": null,
   "id": "77189827-19b3-4def-a4e7-2c5a005ce771",
   "metadata": {},
   "outputs": [],
   "source": [
    "# We are going to integrate the valence quark\n",
    "# !pip install scipy <--- in case you don't have scipy installed in this environment\n",
    "\n",
    "from scipy.integrate import quad\n",
    "\n",
    "def valence_quarks(x):\n",
    "    \"\"\"Compute V = \\Sum(quarks) - \\Sum(antiquarks)\"\"\"\n",
    "    input_x = np.array([x])\n",
    "    model_values = pdf_model_multiflavour(input_x).numpy()\n",
    "    valence = np.sum(-model_values[:, :4] + model_values[:, 5:])\n",
    "    return valence/x\n",
    "\n",
    "integral_value = quad(valence_quarks, 1e-5, 1)\n",
    "\n",
    "print(f\"Total value of the valence sum rule: {integral_value}\")"
   ]
  },
  {
   "cell_type": "markdown",
   "id": "6169a40a",
   "metadata": {},
   "source": [
    "### Piquing your interest: hyperparameter selection\n",
    "\n",
    "In all these examples we have used a Neural Network that is able to give you a good looking PDF amazingly fast. However, when you tackle machine learning problem you will often find that the first few attemps are quite underwhelming.\n",
    "\n",
    "The secret sauce is in the selection of hyperparameters. Let's imagine that you created a generic function to build your model such as:\n",
    "\n",
    "```python\n",
    "def generate_model(..., nlayers=3, units=16, activation=\"tanh\"):\n",
    "```\n",
    "\n",
    "In the definition of the function I've set a few defaults which were already tuned to the PDF fit.\n",
    "\n",
    "- `nlayers` is the number of hidden layers\n",
    "- `units` is the number of nodes that each one of these layers will have (all the same, for simplicity)\n",
    "- `activation` activation function at the end of every layer y = activation( Ax + b)\n",
    "\n",
    "And this is just a subset of the possible hyperparameters! For instance, we are utilizing always the same optimizer with the default values ([tf optimizers](https://www.tensorflow.org/api_docs/python/tf/keras/optimizers/)). We have also set all hidden layers to be fully-connected dense layers with the same number of units and activation functions for a very simple architecture. But we will see that even with a simple architecture the choice of hyperparameters can have a really big effect on the final results.\n",
    "\n",
    "Fitting the PDF when we have already access to the LHAPDF grids is particularly easy, buy try to rerun the examples above with particularly crazy inputs! Some examples you can try:\n",
    "\n",
    "1. A very small number of parameters (very shallow network or layers with not many parameters)\n",
    "2. Remove complexity from the perceptron, for instance using only `linear` activation functions\n",
    "3. Use a very large number of parameters, in principle it should be safe... but is it?"
   ]
  },
  {
   "cell_type": "code",
   "execution_count": null,
   "id": "e27cb546",
   "metadata": {},
   "outputs": [],
   "source": []
  }
 ],
 "metadata": {
  "kernelspec": {
   "display_name": "como25",
   "language": "python",
   "name": "python3"
  },
  "language_info": {
   "codemirror_mode": {
    "name": "ipython",
    "version": 3
   },
   "file_extension": ".py",
   "mimetype": "text/x-python",
   "name": "python",
   "nbconvert_exporter": "python",
   "pygments_lexer": "ipython3",
   "version": "3.12.11"
  }
 },
 "nbformat": 4,
 "nbformat_minor": 5
}
